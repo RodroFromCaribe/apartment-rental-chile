{
 "metadata": {
  "language_info": {
   "codemirror_mode": {
    "name": "ipython",
    "version": 3
   },
   "file_extension": ".py",
   "mimetype": "text/x-python",
   "name": "python",
   "nbconvert_exporter": "python",
   "pygments_lexer": "ipython3",
   "version": "3.8.5-final"
  },
  "orig_nbformat": 2,
  "kernelspec": {
   "name": "python_defaultSpec_1597697279081",
   "display_name": "Python 3.8.5 64-bit"
  }
 },
 "nbformat": 4,
 "nbformat_minor": 2,
 "cells": [
  {
   "cell_type": "code",
   "execution_count": 2,
   "metadata": {},
   "outputs": [],
   "source": [
    "from helpers import *\n",
    "import pandas as pd \n",
    "import numpy as np \n",
    "import re\n",
    "from geopy.geocoders import Nominatim\n",
    "geolocator = Nominatim(user_agent=\"user_name_agent\")\n",
    "\n",
    "import time"
   ]
  },
  {
   "cell_type": "code",
   "execution_count": 3,
   "metadata": {
    "tags": []
   },
   "outputs": [
    {
     "output_type": "stream",
     "name": "stdout",
     "text": "Running Web Scraping Portal Inmobiliario...\nprices: +44 + attributes: +44  address: +44\nprices: +93 + attributes: +93  address: +93\nprices: +143 + attributes: +143  address: +143\nprices: +191 + attributes: +191  address: +191\nprices: +241 + attributes: +241  address: +241\nprices: +289 + attributes: +289  address: +289\nprices: +338 + attributes: +338  address: +338\nprices: +386 + attributes: +386  address: +386\nprices: +436 + attributes: +436  address: +436\nprices: +483 + attributes: +483  address: +483\nWebscraping Finished\n\n"
    }
   ],
   "source": [
    "#Realizar Web Scraping \n",
    "prices,address,m2,rooms,toilets,urls = scrapingportal_inmobiliario(region=\"santiago\",pages=10)"
   ]
  },
  {
   "cell_type": "code",
   "execution_count": 4,
   "metadata": {},
   "outputs": [],
   "source": [
    "df = pd.DataFrame({'urls':urls,'address':address,'m2':m2,'rooms':rooms,'toilets':toilets,'prices':prices})"
   ]
  },
  {
   "cell_type": "code",
   "execution_count": 5,
   "metadata": {},
   "outputs": [],
   "source": [
    "#Modificar  valores almacenados  en  columnas no correspondientes\n",
    "cond1 = df.rooms.str.contains(fr\"baño[s]\",regex=True)\n",
    "cond2 = df.m2.str.contains(fr\"dormitorio[s]\",regex=True)\n",
    "cond3 = df.m2.str.contains(fr\"baño[s]\",regex=True)\n",
    "\n",
    "df['toilets'] = np.where(cond1,df.rooms,df.toilets)\n",
    "df[\"rooms\"] = np.where(cond2,df.m2,df.rooms)\n",
    "df['toilets'] = np.where(cond3,df.m2,df.toilets)\n",
    "\n",
    "#Eliminar columnas que tienen valores nulos en mas de 1 columna (Toilets y Rooms en este caso)\n",
    "df = df.drop(df[df.rooms.isna()].index)\n",
    "#df = df.drop(65)\n",
    "\n",
    "#Extraer  datos numerics de columnas\n",
    "df.rooms = df.rooms.str.extract(r\"(\\d)\")\n",
    "df.m2=df.m2.str.extract(r\"(\\d+)\")\n",
    "df.toilets=df.toilets.str.extract(r\"(\\d+)\")\n",
    "df.prices = df.prices.str.replace(\".\",\"\")\n",
    "\n",
    "#Cambiar tipo de datos a numerico\n",
    "df.m2 = df.m2.astype(\"int\")\n",
    "df.rooms = df.rooms.astype(\"int\")\n",
    "df.toilets = df.toilets.astype(\"float\")\n",
    "df.prices = df.prices.astype(\"int\")\n",
    "\n",
    "#Eliminar Filas que tengan precios menores a 100.000 o mayores a 10.000.000\n",
    "df = df.drop(df[df.prices<100000].index)\n",
    "df = df.drop(df[df.prices>10000000].index)\n",
    "\n",
    "#Reemplazar con la media valor de baño\n",
    "df.toilets.fillna(df.toilets.mean(),inplace=True)\n",
    "\n",
    "#volver a reemplazar toilepor int\n",
    "df.toilets = df.toilets.astype(\"int\")\n",
    "\n",
    "#Resetear index del  Data Frame\n",
    "df = df.reset_index(drop=True)\n"
   ]
  },
  {
   "cell_type": "code",
   "execution_count": 47,
   "metadata": {},
   "outputs": [],
   "source": [
    "#Agregar coordenadas geograficas de direcciones a Data Frame con libreria geopy\n",
    "targets_address= df['address'].tolist()\n",
    "\n",
    "latitude = []\n",
    "longitude = []\n",
    "\n",
    "for target in targets_address:\n",
    "\n",
    "    location = geolocator.geocode(target)\n",
    "    if location == None:\n",
    "        latitude.append(np.nan)\n",
    "        longitude.append(np.nan)\n",
    "    else:\n",
    "        latitude.append(location.latitude)\n",
    "        longitude.append(location.longitude)\n",
    "    time.sleep(0.2)"
   ]
  },
  {
   "cell_type": "code",
   "execution_count": 48,
   "metadata": {},
   "outputs": [],
   "source": [
    "#Almacenar resultados en Data Frame\n",
    "df['latitude'] = latitude\n",
    "df['longitude'] = longitude"
   ]
  },
  {
   "cell_type": "code",
   "execution_count": 49,
   "metadata": {},
   "outputs": [],
   "source": [
    "#Crear nuevo data frame con  direcciones validas y coordeandas geograficas no nulas \n",
    "geo_df = df[~df['latitude'].isnull()]"
   ]
  },
  {
   "cell_type": "code",
   "execution_count": 50,
   "metadata": {},
   "outputs": [
    {
     "output_type": "execute_result",
     "data": {
      "text/plain": "                                                urls  \\\n1  https://www.portalinmobiliario.com/MLC-5414693...   \n2  https://www.portalinmobiliario.com/MLC-5415290...   \n3  https://www.portalinmobiliario.com/MLC-5411404...   \n4  https://www.portalinmobiliario.com/MLC-5414400...   \n5  https://www.portalinmobiliario.com/MLC-5415165...   \n\n                                             address  m2  rooms  toilets  \\\n1                    Mujica 99, Ñuñoa, Chile, Ñuñoa   40      1        1   \n2   Mario Kreutzberger 1558, Santiago, Chile, San...  33      1        1   \n3       José Domingo Cañas 705, Ñuñoa, Chile, Ñuñoa   65      2        2   \n4              Irarrázaval 200, Ñuñoa, Chile, Ñuñoa   24      1        1   \n5     Avenida España 199, Santiago, Chile, Santiago   35      1        1   \n\n   prices   latitude  longitude  \n1  320000 -33.460586 -70.605999  \n2  235000 -33.435944 -70.659488  \n3  490000 -33.456710 -70.609417  \n4  300000 -33.454189 -70.604972  \n5  260000 -33.451430 -70.669938  ",
      "text/html": "<div>\n<style scoped>\n    .dataframe tbody tr th:only-of-type {\n        vertical-align: middle;\n    }\n\n    .dataframe tbody tr th {\n        vertical-align: top;\n    }\n\n    .dataframe thead th {\n        text-align: right;\n    }\n</style>\n<table border=\"1\" class=\"dataframe\">\n  <thead>\n    <tr style=\"text-align: right;\">\n      <th></th>\n      <th>urls</th>\n      <th>address</th>\n      <th>m2</th>\n      <th>rooms</th>\n      <th>toilets</th>\n      <th>prices</th>\n      <th>latitude</th>\n      <th>longitude</th>\n    </tr>\n  </thead>\n  <tbody>\n    <tr>\n      <th>1</th>\n      <td>https://www.portalinmobiliario.com/MLC-5414693...</td>\n      <td>Mujica 99, Ñuñoa, Chile, Ñuñoa</td>\n      <td>40</td>\n      <td>1</td>\n      <td>1</td>\n      <td>320000</td>\n      <td>-33.460586</td>\n      <td>-70.605999</td>\n    </tr>\n    <tr>\n      <th>2</th>\n      <td>https://www.portalinmobiliario.com/MLC-5415290...</td>\n      <td>Mario Kreutzberger 1558, Santiago, Chile, San...</td>\n      <td>33</td>\n      <td>1</td>\n      <td>1</td>\n      <td>235000</td>\n      <td>-33.435944</td>\n      <td>-70.659488</td>\n    </tr>\n    <tr>\n      <th>3</th>\n      <td>https://www.portalinmobiliario.com/MLC-5411404...</td>\n      <td>José Domingo Cañas 705, Ñuñoa, Chile, Ñuñoa</td>\n      <td>65</td>\n      <td>2</td>\n      <td>2</td>\n      <td>490000</td>\n      <td>-33.456710</td>\n      <td>-70.609417</td>\n    </tr>\n    <tr>\n      <th>4</th>\n      <td>https://www.portalinmobiliario.com/MLC-5414400...</td>\n      <td>Irarrázaval 200, Ñuñoa, Chile, Ñuñoa</td>\n      <td>24</td>\n      <td>1</td>\n      <td>1</td>\n      <td>300000</td>\n      <td>-33.454189</td>\n      <td>-70.604972</td>\n    </tr>\n    <tr>\n      <th>5</th>\n      <td>https://www.portalinmobiliario.com/MLC-5415165...</td>\n      <td>Avenida España 199, Santiago, Chile, Santiago</td>\n      <td>35</td>\n      <td>1</td>\n      <td>1</td>\n      <td>260000</td>\n      <td>-33.451430</td>\n      <td>-70.669938</td>\n    </tr>\n  </tbody>\n</table>\n</div>"
     },
     "metadata": {},
     "execution_count": 50
    }
   ],
   "source": [
    "geo_df"
   ]
  },
  {
   "cell_type": "code",
   "execution_count": 51,
   "metadata": {},
   "outputs": [],
   "source": [
    "geo_df.to_csv(\"data-deptos.csv\")"
   ]
  }
 ]
}